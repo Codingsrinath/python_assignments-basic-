{
 "cells": [
  {
   "cell_type": "code",
   "execution_count": 1,
   "id": "8bd0e0e6",
   "metadata": {},
   "outputs": [
    {
     "name": "stdout",
     "output_type": "stream",
     "text": [
      "Hello Python\n"
     ]
    }
   ],
   "source": [
    "#Ques 1\n",
    "#Write a Python program to print \"Hello Python\"?\n",
    "print(\"Hello Python\")"
   ]
  },
  {
   "cell_type": "code",
   "execution_count": 2,
   "id": "74f4e3ff",
   "metadata": {},
   "outputs": [
    {
     "name": "stdout",
     "output_type": "stream",
     "text": [
      "26.14\n",
      "86.72\n",
      "Addition of a and b: 112.86\n",
      "Division of a by b: 0.301429889298893\n"
     ]
    }
   ],
   "source": [
    "#Ques 2\n",
    "#Write a Python program to do arithmetical operations addition and division.?\n",
    "a = float(input())\n",
    "b = float(input())\n",
    "c = a + b\n",
    "d = a / b\n",
    "print(\"Addition of a and b:\", c)\n",
    "print(\"Division of a by b:\", d)"
   ]
  },
  {
   "cell_type": "code",
   "execution_count": 3,
   "id": "eebc416f",
   "metadata": {},
   "outputs": [
    {
     "name": "stdout",
     "output_type": "stream",
     "text": [
      "Enter the dimension of base of the triangle:35\n",
      "Enter the dimension of height of the triangle:50\n",
      "The area of the triangle is : 875.0\n"
     ]
    }
   ],
   "source": [
    "#Ques 3\n",
    "#Write a Python program to find the area of a triangle?\n",
    "b = float(input(\"Enter the dimension of base of the triangle:\"))\n",
    "h = float(input(\"Enter the dimension of height of the triangle:\"))\n",
    "area = 0.5 * b * h\n",
    "print(\"The area of the triangle is :\", area)"
   ]
  },
  {
   "cell_type": "code",
   "execution_count": 4,
   "id": "76948659",
   "metadata": {},
   "outputs": [
    {
     "name": "stdout",
     "output_type": "stream",
     "text": [
      "9\n",
      "7\n",
      "Before Swapping:\n",
      "The values of a and b are:\n",
      "a is 9\n",
      "b is 7\n",
      "After Swapping:\n",
      "The values of a and b are:\n",
      "a is 7\n",
      "b is 9\n"
     ]
    }
   ],
   "source": [
    "#Ques 4\n",
    "#Write a Python program to swap two variables?\n",
    "a = int(input())\n",
    "b = int(input())\n",
    "print(\"Before Swapping:\")\n",
    "print(\"The values of a and b are:\")\n",
    "print(\"a is\",a)\n",
    "print(\"b is\",b)\n",
    "t =a\n",
    "a = b\n",
    "b = t\n",
    "print(\"After Swapping:\")\n",
    "print(\"The values of a and b are:\")\n",
    "print(\"a is\", a)\n",
    "print(\"b is\", b)"
   ]
  },
  {
   "cell_type": "code",
   "execution_count": 6,
   "id": "67d87930",
   "metadata": {},
   "outputs": [
    {
     "name": "stdout",
     "output_type": "stream",
     "text": [
      "5\n"
     ]
    }
   ],
   "source": [
    "#Write a Python program to generate a random number?\n",
    "import random\n",
    "rand = random.randint(1, 10)\n",
    "print(rand)"
   ]
  },
  {
   "cell_type": "code",
   "execution_count": null,
   "id": "659e3eb5",
   "metadata": {},
   "outputs": [],
   "source": []
  }
 ],
 "metadata": {
  "kernelspec": {
   "display_name": "Python 3 (ipykernel)",
   "language": "python",
   "name": "python3"
  },
  "language_info": {
   "codemirror_mode": {
    "name": "ipython",
    "version": 3
   },
   "file_extension": ".py",
   "mimetype": "text/x-python",
   "name": "python",
   "nbconvert_exporter": "python",
   "pygments_lexer": "ipython3",
   "version": "3.9.7"
  }
 },
 "nbformat": 4,
 "nbformat_minor": 5
}
