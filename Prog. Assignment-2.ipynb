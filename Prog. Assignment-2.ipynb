{
 "cells": [
  {
   "cell_type": "code",
   "execution_count": 2,
   "id": "b47defb8",
   "metadata": {},
   "outputs": [
    {
     "name": "stdout",
     "output_type": "stream",
     "text": [
      "Enter the distance in kilometres:450\n",
      "The distance in miles is: 279.675\n"
     ]
    }
   ],
   "source": [
    "#Ques 1\n",
    "#Write a Python program to convert kilometers to miles?\n",
    "km = float(input(\"Enter the distance in kilometres:\"))\n",
    "miles= 0.6215 * km\n",
    "print(\"The distance in miles is:\", miles)"
   ]
  },
  {
   "cell_type": "code",
   "execution_count": 4,
   "id": "f31b4704",
   "metadata": {},
   "outputs": [
    {
     "name": "stdout",
     "output_type": "stream",
     "text": [
      "Enter the temperature in celcius:6500\n",
      "The degree in farenheit is: 11732.0\n"
     ]
    }
   ],
   "source": [
    "#Ques 2\n",
    "#Write a Python program to convert Celsius to Fahrenheit?\n",
    "celcius = float(input(\"Enter the temperature in celcius:\"))\n",
    "farenheit = (celcius * (9/5)) + 32\n",
    "print(\"The degree in farenheit is:\", farenheit)"
   ]
  },
  {
   "cell_type": "code",
   "execution_count": 10,
   "id": "cbd99c2e",
   "metadata": {},
   "outputs": [
    {
     "name": "stdout",
     "output_type": "stream",
     "text": [
      "                                  2022\n",
      "\n",
      "      January                   February                   March\n",
      "Mo Tu We Th Fr Sa Su      Mo Tu We Th Fr Sa Su      Mo Tu We Th Fr Sa Su\n",
      "                1  2          1  2  3  4  5  6          1  2  3  4  5  6\n",
      " 3  4  5  6  7  8  9       7  8  9 10 11 12 13       7  8  9 10 11 12 13\n",
      "10 11 12 13 14 15 16      14 15 16 17 18 19 20      14 15 16 17 18 19 20\n",
      "17 18 19 20 21 22 23      21 22 23 24 25 26 27      21 22 23 24 25 26 27\n",
      "24 25 26 27 28 29 30      28                        28 29 30 31\n",
      "31\n",
      "\n",
      "       April                      May                       June\n",
      "Mo Tu We Th Fr Sa Su      Mo Tu We Th Fr Sa Su      Mo Tu We Th Fr Sa Su\n",
      "             1  2  3                         1             1  2  3  4  5\n",
      " 4  5  6  7  8  9 10       2  3  4  5  6  7  8       6  7  8  9 10 11 12\n",
      "11 12 13 14 15 16 17       9 10 11 12 13 14 15      13 14 15 16 17 18 19\n",
      "18 19 20 21 22 23 24      16 17 18 19 20 21 22      20 21 22 23 24 25 26\n",
      "25 26 27 28 29 30         23 24 25 26 27 28 29      27 28 29 30\n",
      "                          30 31\n",
      "\n",
      "        July                     August                  September\n",
      "Mo Tu We Th Fr Sa Su      Mo Tu We Th Fr Sa Su      Mo Tu We Th Fr Sa Su\n",
      "             1  2  3       1  2  3  4  5  6  7                1  2  3  4\n",
      " 4  5  6  7  8  9 10       8  9 10 11 12 13 14       5  6  7  8  9 10 11\n",
      "11 12 13 14 15 16 17      15 16 17 18 19 20 21      12 13 14 15 16 17 18\n",
      "18 19 20 21 22 23 24      22 23 24 25 26 27 28      19 20 21 22 23 24 25\n",
      "25 26 27 28 29 30 31      29 30 31                  26 27 28 29 30\n",
      "\n",
      "      October                   November                  December\n",
      "Mo Tu We Th Fr Sa Su      Mo Tu We Th Fr Sa Su      Mo Tu We Th Fr Sa Su\n",
      "                1  2          1  2  3  4  5  6                1  2  3  4\n",
      " 3  4  5  6  7  8  9       7  8  9 10 11 12 13       5  6  7  8  9 10 11\n",
      "10 11 12 13 14 15 16      14 15 16 17 18 19 20      12 13 14 15 16 17 18\n",
      "17 18 19 20 21 22 23      21 22 23 24 25 26 27      19 20 21 22 23 24 25\n",
      "24 25 26 27 28 29 30      28 29 30                  26 27 28 29 30 31\n",
      "31\n",
      "\n"
     ]
    }
   ],
   "source": [
    "#Ques 3\n",
    "#Write a Python program to display calendar?\n",
    "import calendar\n",
    "year = 2022\n",
    "print(calendar.calendar(year))\n",
    "\n"
   ]
  },
  {
   "cell_type": "code",
   "execution_count": 12,
   "id": "5709c462",
   "metadata": {},
   "outputs": [
    {
     "name": "stdout",
     "output_type": "stream",
     "text": [
      "The solutions are (-3+0j) and (-1+0j)\n"
     ]
    }
   ],
   "source": [
    "#Ques 4\n",
    "#Write a Python program to solve quadratic equation?\n",
    "import cmath\n",
    "\n",
    "a = 2\n",
    "b = 8\n",
    "c = 6\n",
    "\n",
    "# calculate the discriminant\n",
    "d = (b**2) - (4*a*c)\n",
    "\n",
    "# find two solutions\n",
    "sol1 = (-b-cmath.sqrt(d))/(2*a)\n",
    "sol2 = (-b+cmath.sqrt(d))/(2*a)\n",
    "\n",
    "print(f'The solutions are {sol1} and {sol2}')"
   ]
  },
  {
   "cell_type": "markdown",
   "id": "049cbf48",
   "metadata": {},
   "source": [
    "For the above question :\n",
    "\n",
    "The standard form of quadratic equation is:\n",
    "\n",
    "ax2 + bx + c = 0, where\n",
    "\n",
    "a, b and c are real numbers and\n",
    "\n",
    "a ≠ 0"
   ]
  },
  {
   "cell_type": "code",
   "execution_count": 11,
   "id": "61427c6d",
   "metadata": {},
   "outputs": [
    {
     "name": "stdout",
     "output_type": "stream",
     "text": [
      "Enter the value of a:9\n",
      "Enter the value of b:2\n",
      "After swapping:\n",
      "The value of a is: 2\n",
      "The value of b is: 9\n"
     ]
    }
   ],
   "source": [
    "#Ques 5\n",
    "#Write a Python program to swap two variables without temp variable?\n",
    "a = int(input(\"Enter the value of a:\"))\n",
    "b = int(input(\"Enter the value of b:\"))\n",
    "a,b = b, a\n",
    "print(\"After swapping:\")\n",
    "print(\"The value of a is:\",a)\n",
    "print(\"The value of b is:\", b)"
   ]
  },
  {
   "cell_type": "code",
   "execution_count": null,
   "id": "8593fe5c",
   "metadata": {},
   "outputs": [],
   "source": []
  }
 ],
 "metadata": {
  "kernelspec": {
   "display_name": "Python 3 (ipykernel)",
   "language": "python",
   "name": "python3"
  },
  "language_info": {
   "codemirror_mode": {
    "name": "ipython",
    "version": 3
   },
   "file_extension": ".py",
   "mimetype": "text/x-python",
   "name": "python",
   "nbconvert_exporter": "python",
   "pygments_lexer": "ipython3",
   "version": "3.9.7"
  }
 },
 "nbformat": 4,
 "nbformat_minor": 5
}
