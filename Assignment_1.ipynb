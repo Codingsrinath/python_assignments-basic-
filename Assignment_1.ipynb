{
 "cells": [
  {
   "cell_type": "markdown",
   "id": "0c205619",
   "metadata": {},
   "source": [
    "Q1)\n",
    "soln: \n",
    "Values are : 'hello', -87.8, 6\n",
    "('hello' is string type, -87.8 is float type, 6 is integer type)\n",
    "Expressions are: *, -, /, + "
   ]
  },
  {
   "cell_type": "markdown",
   "id": "ee52bc23",
   "metadata": {},
   "source": [
    "Q2)                \n",
    "STRINGS:\n",
    "1. string is a data type which is used for holding sequence of charecters enclosed within single quotes or double quotes. The charecters may include digits, letters, special charecters(such as !,#,@..etc).\n",
    "2. strings are also a type of variables.\n",
    "3. Since strings are a sequence of charecters each charecter in a string can be accessed by its index. \n",
    "4. strings can't hold variables\n",
    "5. srings can't be used for performing calculations even if it is a numeric string like '5' you would have to convert to integer then perform arithmetic operations.\n",
    "VARIABLES:\n",
    "1. variables is a named location in memory which acts as a temporary storage which is used to store diferents kinds of values/data types such as(integer numbers, floating point numbers, strings, lists, tuples, sets, dictionary,etc)\n",
    "2. The value is initialised to a variable using an assignment operator(=).\n",
    "3. values which are stored in a variable can be later updated\n",
    "4. Each variable has a reference in memory i.e memory address which can be found by the 'id()' function.\n",
    "5. variables can hold strings  "
   ]
  },
  {
   "cell_type": "code",
   "execution_count": 9,
   "id": "4b1b8ea5",
   "metadata": {},
   "outputs": [],
   "source": [
    "s = \"srinath\"  #s is a string"
   ]
  },
  {
   "cell_type": "code",
   "execution_count": 10,
   "id": "94fc0868",
   "metadata": {},
   "outputs": [
    {
     "data": {
      "text/plain": [
       "'a, b, c, d, e  are variables which are capable of storing different data types\\na- integer type\\nb- string type\\nc - list\\nd- set\\ne  -tuple\\nf - dictionary\\n'"
      ]
     },
     "execution_count": 10,
     "metadata": {},
     "output_type": "execute_result"
    }
   ],
   "source": [
    "a = 31243\n",
    "b = \"Hello World\"\n",
    "c = [1,2,3,4,5]\n",
    "d = {2,3,134,34,32,4}\n",
    "e = (4,5,56,7,8)\n",
    "f = {\"a\" : 123, \"b\" : 7652.636, \"c\" : [4,443,53,54,5,335], \"d\" : 67+34j, \"e\" : True }\n",
    "\n",
    "'''a, b, c, d, e  are variables which are capable of storing different data types\n",
    "a- integer type\n",
    "b- string type\n",
    "c - list\n",
    "d- set\n",
    "e  -tuple\n",
    "f - dictionary\n",
    "'''"
   ]
  },
  {
   "cell_type": "raw",
   "id": "ab3049ea",
   "metadata": {},
   "source": [
    "Q3)\n",
    " The three different kinds of data types are:\n",
    " i) strings\n",
    " ii) lists\n",
    " iii) sets\n",
    " \n",
    " i)\n",
    " 1. strings is a data type which is enclosed with single quotes or double quotes\n",
    " 2. strings basically hold a sequence of charecters, they may include digits, letters, special symbols.\n",
    " 3. strings can also be enclosed with triple single quotes or double quotes in case if there is a large sentence or paragraph.\n",
    " 4. the elemnts or basically the charecters in a string can be accessed using their respective indices. the first charecter in a\n",
    " string starts with index 0 and ends with the index (length of string -1).The last charecter of a string starts with the index -1\n",
    " 5. string data type does not support item assignment. \n",
    " 6. Two or more strings can be concatenated using '+' operator. \n",
    " 7. A given string can be repeated multiple times using '*' operator.\n",
    " 8. You can do slicing operations on a string , you can reverse a string, calculate the length of a string using len function.\n",
    " "
   ]
  },
  {
   "cell_type": "code",
   "execution_count": 11,
   "id": "f0ca3fef",
   "metadata": {},
   "outputs": [],
   "source": [
    "s1 = 'i am working with ineuron'\n",
    "s2 = \"my name is srinath \""
   ]
  },
  {
   "cell_type": "code",
   "execution_count": 12,
   "id": "c4d66fe1",
   "metadata": {},
   "outputs": [
    {
     "data": {
      "text/plain": [
       "'my name is srinath i am working with ineuron'"
      ]
     },
     "execution_count": 12,
     "metadata": {},
     "output_type": "execute_result"
    }
   ],
   "source": [
    "s2 + s1"
   ]
  },
  {
   "cell_type": "code",
   "execution_count": 13,
   "id": "2b8e8bc1",
   "metadata": {},
   "outputs": [
    {
     "data": {
      "text/plain": [
       "'i am working with ineuroni am working with ineuroni am working with ineuron'"
      ]
     },
     "execution_count": 13,
     "metadata": {},
     "output_type": "execute_result"
    }
   ],
   "source": [
    "s1 *3"
   ]
  },
  {
   "cell_type": "code",
   "execution_count": 14,
   "id": "6ace6116",
   "metadata": {},
   "outputs": [
    {
     "data": {
      "text/plain": [
       "'i'"
      ]
     },
     "execution_count": 14,
     "metadata": {},
     "output_type": "execute_result"
    }
   ],
   "source": [
    "s1[0]"
   ]
  },
  {
   "cell_type": "code",
   "execution_count": 15,
   "id": "0601b6c6",
   "metadata": {},
   "outputs": [
    {
     "data": {
      "text/plain": [
       "'a'"
      ]
     },
     "execution_count": 15,
     "metadata": {},
     "output_type": "execute_result"
    }
   ],
   "source": [
    "s1[2]"
   ]
  },
  {
   "cell_type": "code",
   "execution_count": 16,
   "id": "b155cc70",
   "metadata": {},
   "outputs": [
    {
     "data": {
      "text/plain": [
       "' '"
      ]
     },
     "execution_count": 16,
     "metadata": {},
     "output_type": "execute_result"
    }
   ],
   "source": [
    "s2[-1]"
   ]
  },
  {
   "cell_type": "code",
   "execution_count": 17,
   "id": "5dedd88c",
   "metadata": {},
   "outputs": [
    {
     "data": {
      "text/plain": [
       "'norueni htiw gnikrow ma i'"
      ]
     },
     "execution_count": 17,
     "metadata": {},
     "output_type": "execute_result"
    }
   ],
   "source": [
    "s1[::-1]"
   ]
  },
  {
   "cell_type": "code",
   "execution_count": 18,
   "id": "f84ddd57",
   "metadata": {},
   "outputs": [
    {
     "data": {
      "text/plain": [
       "'ia okn ihiern'"
      ]
     },
     "execution_count": 18,
     "metadata": {},
     "output_type": "execute_result"
    }
   ],
   "source": [
    "s1[: : 2]"
   ]
  },
  {
   "cell_type": "code",
   "execution_count": 19,
   "id": "6eb36210",
   "metadata": {},
   "outputs": [
    {
     "data": {
      "text/plain": [
       "25"
      ]
     },
     "execution_count": 19,
     "metadata": {},
     "output_type": "execute_result"
    }
   ],
   "source": [
    "len(s1)"
   ]
  },
  {
   "cell_type": "code",
   "execution_count": 20,
   "id": "58d3bc4f",
   "metadata": {},
   "outputs": [
    {
     "data": {
      "text/plain": [
       "19"
      ]
     },
     "execution_count": 20,
     "metadata": {},
     "output_type": "execute_result"
    }
   ],
   "source": [
    "len(s2)"
   ]
  },
  {
   "cell_type": "code",
   "execution_count": 21,
   "id": "bc2a38bb",
   "metadata": {},
   "outputs": [
    {
     "data": {
      "text/plain": [
       "'mnesra '"
      ]
     },
     "execution_count": 21,
     "metadata": {},
     "output_type": "execute_result"
    }
   ],
   "source": [
    "s2[:: 3]"
   ]
  },
  {
   "cell_type": "code",
   "execution_count": 22,
   "id": "15d22376",
   "metadata": {},
   "outputs": [
    {
     "data": {
      "text/plain": [
       "'i am working with ineuron'"
      ]
     },
     "execution_count": 22,
     "metadata": {},
     "output_type": "execute_result"
    }
   ],
   "source": [
    "s1"
   ]
  },
  {
   "cell_type": "code",
   "execution_count": 24,
   "id": "fd9bbfbf",
   "metadata": {},
   "outputs": [
    {
     "ename": "TypeError",
     "evalue": "'str' object does not support item assignment",
     "output_type": "error",
     "traceback": [
      "\u001b[1;31m---------------------------------------------------------------------------\u001b[0m",
      "\u001b[1;31mTypeError\u001b[0m                                 Traceback (most recent call last)",
      "\u001b[1;32m~\\AppData\\Local\\Temp/ipykernel_11988/1510845204.py\u001b[0m in \u001b[0;36m<module>\u001b[1;34m\u001b[0m\n\u001b[1;32m----> 1\u001b[1;33m \u001b[0ms1\u001b[0m\u001b[1;33m[\u001b[0m\u001b[1;36m0\u001b[0m\u001b[1;33m]\u001b[0m \u001b[1;33m=\u001b[0m \u001b[1;34m\"vgcdsfy\"\u001b[0m \u001b[1;31m#srting type does not support item assignment\u001b[0m\u001b[1;33m\u001b[0m\u001b[1;33m\u001b[0m\u001b[0m\n\u001b[0m",
      "\u001b[1;31mTypeError\u001b[0m: 'str' object does not support item assignment"
     ]
    }
   ],
   "source": [
    "s1[0] = \"vgcdsfy\" #srting type does not support item assignment"
   ]
  },
  {
   "cell_type": "code",
   "execution_count": 25,
   "id": "77595324",
   "metadata": {},
   "outputs": [
    {
     "name": "stdout",
     "output_type": "stream",
     "text": [
      "i\n",
      " \n",
      "a\n",
      "m\n",
      " \n",
      "w\n",
      "o\n",
      "r\n",
      "k\n",
      "i\n",
      "n\n",
      "g\n",
      " \n",
      "w\n",
      "i\n",
      "t\n",
      "h\n",
      " \n",
      "i\n",
      "n\n",
      "e\n",
      "u\n",
      "r\n",
      "o\n",
      "n\n"
     ]
    }
   ],
   "source": [
    "for i in s1:\n",
    "    print(i)"
   ]
  },
  {
   "cell_type": "raw",
   "id": "08d591c7",
   "metadata": {},
   "source": [
    "ii)\n",
    "1. list is a collection of differnent typed of elements\n",
    "2. list elements can be accessed using the index just like a string.\n",
    "3.list operations are similar to that of a string except in the case the elements of a list can be updated or changed.\n",
    "4. you can do append operation to add an element at the end of the list\n",
    "5. you can do extend operations on a list if the element is iterable.\n",
    "6. you can insert the element at a particular position by using the insert function.\n",
    "7. you can pop the element in a list by mentioning the index but by default it always removes the last element.\n",
    "8. A list is mutable. list will allow duplicate elements to store inside it.\n",
    "9. Data types that are not iterable can't be extended inside a list"
   ]
  },
  {
   "cell_type": "code",
   "execution_count": 21,
   "id": "0bddb946",
   "metadata": {},
   "outputs": [
    {
     "ename": "TypeError",
     "evalue": "'int' object is not iterable",
     "output_type": "error",
     "traceback": [
      "\u001b[1;31m---------------------------------------------------------------------------\u001b[0m",
      "\u001b[1;31mTypeError\u001b[0m                                 Traceback (most recent call last)",
      "\u001b[1;32m~\\AppData\\Local\\Temp/ipykernel_732/893590639.py\u001b[0m in \u001b[0;36m<module>\u001b[1;34m\u001b[0m\n\u001b[1;32m----> 1\u001b[1;33m \u001b[1;33m[\u001b[0m\u001b[1;36m1\u001b[0m\u001b[1;33m,\u001b[0m\u001b[1;36m2\u001b[0m\u001b[1;33m,\u001b[0m\u001b[1;36m2\u001b[0m\u001b[1;33m,\u001b[0m\u001b[1;36m34\u001b[0m\u001b[1;33m]\u001b[0m\u001b[1;33m.\u001b[0m\u001b[0mextend\u001b[0m\u001b[1;33m(\u001b[0m\u001b[1;36m2131\u001b[0m\u001b[1;33m)\u001b[0m\u001b[1;33m\u001b[0m\u001b[1;33m\u001b[0m\u001b[0m\n\u001b[0m",
      "\u001b[1;31mTypeError\u001b[0m: 'int' object is not iterable"
     ]
    }
   ],
   "source": [
    " [1,2,2,34].extend(2131)"
   ]
  },
  {
   "cell_type": "code",
   "execution_count": 2,
   "id": "a9e5eaba",
   "metadata": {},
   "outputs": [],
   "source": [
    "l = [2653, 675.34, \"srinath\", 67+35j, True, [1,3,5,7,76,8,9]] #list is a collection of different types of elements"
   ]
  },
  {
   "cell_type": "code",
   "execution_count": 3,
   "id": "f3d69bf3",
   "metadata": {},
   "outputs": [
    {
     "data": {
      "text/plain": [
       "2653"
      ]
     },
     "execution_count": 3,
     "metadata": {},
     "output_type": "execute_result"
    }
   ],
   "source": [
    "l[0]"
   ]
  },
  {
   "cell_type": "code",
   "execution_count": 4,
   "id": "21bf97b5",
   "metadata": {},
   "outputs": [
    {
     "data": {
      "text/plain": [
       "[1, 3, 5, 7, 76, 8, 9]"
      ]
     },
     "execution_count": 4,
     "metadata": {},
     "output_type": "execute_result"
    }
   ],
   "source": [
    "l[-1]"
   ]
  },
  {
   "cell_type": "code",
   "execution_count": 5,
   "id": "72715203",
   "metadata": {},
   "outputs": [
    {
     "data": {
      "text/plain": [
       "[[1, 3, 5, 7, 76, 8, 9], True, (67+35j), 'srinath', 675.34, 2653]"
      ]
     },
     "execution_count": 5,
     "metadata": {},
     "output_type": "execute_result"
    }
   ],
   "source": [
    "l[: : -1]"
   ]
  },
  {
   "cell_type": "code",
   "execution_count": 6,
   "id": "ae5025c8",
   "metadata": {},
   "outputs": [],
   "source": [
    "l[0 ] = \"sdhgsfyu\""
   ]
  },
  {
   "cell_type": "code",
   "execution_count": 7,
   "id": "a044e395",
   "metadata": {},
   "outputs": [
    {
     "data": {
      "text/plain": [
       "['sdhgsfyu', 675.34, 'srinath', (67+35j), True, [1, 3, 5, 7, 76, 8, 9]]"
      ]
     },
     "execution_count": 7,
     "metadata": {},
     "output_type": "execute_result"
    }
   ],
   "source": [
    "l"
   ]
  },
  {
   "cell_type": "code",
   "execution_count": 26,
   "id": "9874e20a",
   "metadata": {},
   "outputs": [
    {
     "data": {
      "text/plain": [
       "[1, 23, 33, 55, 76, 8, 8, 7, 4, 53, 50, 7, 42, 5, 65, 7, 4]"
      ]
     },
     "execution_count": 26,
     "metadata": {},
     "output_type": "execute_result"
    }
   ],
   "source": [
    "[1,23,33,55,76,8,8,7] + [4,53,50,7,42,5,65,7,4]"
   ]
  },
  {
   "cell_type": "code",
   "execution_count": 31,
   "id": "fdc40394",
   "metadata": {},
   "outputs": [],
   "source": [
    "l1  = [1,4,6,7,47,68]"
   ]
  },
  {
   "cell_type": "code",
   "execution_count": 32,
   "id": "dd9e4eb6",
   "metadata": {},
   "outputs": [],
   "source": [
    "l1.append(\"srinath\")"
   ]
  },
  {
   "cell_type": "code",
   "execution_count": 33,
   "id": "9eee269b",
   "metadata": {},
   "outputs": [
    {
     "data": {
      "text/plain": [
       "[1, 4, 6, 7, 47, 68, 'srinath']"
      ]
     },
     "execution_count": 33,
     "metadata": {},
     "output_type": "execute_result"
    }
   ],
   "source": [
    "l1"
   ]
  },
  {
   "cell_type": "code",
   "execution_count": 34,
   "id": "ffabdf58",
   "metadata": {},
   "outputs": [],
   "source": [
    "l1.insert(1, 47.787)"
   ]
  },
  {
   "cell_type": "code",
   "execution_count": 35,
   "id": "9b9d6b5a",
   "metadata": {},
   "outputs": [
    {
     "data": {
      "text/plain": [
       "[1, 47.787, 4, 6, 7, 47, 68, 'srinath']"
      ]
     },
     "execution_count": 35,
     "metadata": {},
     "output_type": "execute_result"
    }
   ],
   "source": [
    "l1"
   ]
  },
  {
   "cell_type": "code",
   "execution_count": 36,
   "id": "589dd94d",
   "metadata": {},
   "outputs": [
    {
     "data": {
      "text/plain": [
       "'srinath'"
      ]
     },
     "execution_count": 36,
     "metadata": {},
     "output_type": "execute_result"
    }
   ],
   "source": [
    "l1.pop()"
   ]
  },
  {
   "cell_type": "code",
   "execution_count": 37,
   "id": "357066f2",
   "metadata": {},
   "outputs": [
    {
     "data": {
      "text/plain": [
       "6"
      ]
     },
     "execution_count": 37,
     "metadata": {},
     "output_type": "execute_result"
    }
   ],
   "source": [
    "l1.pop(3)"
   ]
  },
  {
   "cell_type": "code",
   "execution_count": 38,
   "id": "6444d38d",
   "metadata": {},
   "outputs": [
    {
     "data": {
      "text/plain": [
       "[1, 47.787, 4, 7, 47, 68]"
      ]
     },
     "execution_count": 38,
     "metadata": {},
     "output_type": "execute_result"
    }
   ],
   "source": [
    "l1"
   ]
  },
  {
   "cell_type": "markdown",
   "id": "4f5459ed",
   "metadata": {},
   "source": [
    "iii) \n",
    "1. set is an unordered collection of elements\n",
    "2. sets can be used to store multiple items in a single variable\n",
    "3. set items are unchangeable but you can remove and add items.\n",
    "4. set is unordered collection because set items appear in a different order you use them and cannot be referred to by index or key.\n",
    "5. sets cannot have two iems with the same value.\n",
    "6. sets are mutable , indexing of a set has no meaning.\n",
    "7. We cannot access or change the element of a set using indxing or slicing, set type does not allow it.\n",
    "8. sets can be used to perform mathematical operations such as union, intersection, symmetric differnce, etc\n",
    "9. set elements can be deleted by either using the remove function or discard function. remove function deletes the elemenent if it is a member, else it raises key error."
   ]
  },
  {
   "cell_type": "code",
   "execution_count": 39,
   "id": "1fb7d339",
   "metadata": {},
   "outputs": [],
   "source": [
    "st = {23,4,4,5,6}"
   ]
  },
  {
   "cell_type": "code",
   "execution_count": 40,
   "id": "5f54e846",
   "metadata": {},
   "outputs": [
    {
     "data": {
      "text/plain": [
       "set"
      ]
     },
     "execution_count": 40,
     "metadata": {},
     "output_type": "execute_result"
    }
   ],
   "source": [
    "type(st)"
   ]
  },
  {
   "cell_type": "code",
   "execution_count": 41,
   "id": "e9af1943",
   "metadata": {},
   "outputs": [
    {
     "data": {
      "text/plain": [
       "{4, 5, 6, 23}"
      ]
     },
     "execution_count": 41,
     "metadata": {},
     "output_type": "execute_result"
    }
   ],
   "source": [
    "st"
   ]
  },
  {
   "cell_type": "code",
   "execution_count": 43,
   "id": "5d6f031e",
   "metadata": {},
   "outputs": [
    {
     "ename": "TypeError",
     "evalue": "'set' object is not subscriptable",
     "output_type": "error",
     "traceback": [
      "\u001b[1;31m---------------------------------------------------------------------------\u001b[0m",
      "\u001b[1;31mTypeError\u001b[0m                                 Traceback (most recent call last)",
      "\u001b[1;32m~\\AppData\\Local\\Temp/ipykernel_11988/515028490.py\u001b[0m in \u001b[0;36m<module>\u001b[1;34m\u001b[0m\n\u001b[1;32m----> 1\u001b[1;33m \u001b[0mst\u001b[0m\u001b[1;33m[\u001b[0m\u001b[1;36m0\u001b[0m\u001b[1;33m]\u001b[0m\u001b[1;33m\u001b[0m\u001b[1;33m\u001b[0m\u001b[0m\n\u001b[0m",
      "\u001b[1;31mTypeError\u001b[0m: 'set' object is not subscriptable"
     ]
    }
   ],
   "source": [
    "st[0]"
   ]
  },
  {
   "cell_type": "code",
   "execution_count": 44,
   "id": "91a99208",
   "metadata": {},
   "outputs": [],
   "source": [
    "s_1 = {3,5,5,6,75,78,56,47}"
   ]
  },
  {
   "cell_type": "code",
   "execution_count": 45,
   "id": "1db102d5",
   "metadata": {},
   "outputs": [
    {
     "ename": "TypeError",
     "evalue": "unsupported operand type(s) for +: 'set' and 'set'",
     "output_type": "error",
     "traceback": [
      "\u001b[1;31m---------------------------------------------------------------------------\u001b[0m",
      "\u001b[1;31mTypeError\u001b[0m                                 Traceback (most recent call last)",
      "\u001b[1;32m~\\AppData\\Local\\Temp/ipykernel_11988/4223317655.py\u001b[0m in \u001b[0;36m<module>\u001b[1;34m\u001b[0m\n\u001b[1;32m----> 1\u001b[1;33m \u001b[0mst\u001b[0m \u001b[1;33m+\u001b[0m \u001b[0ms_1\u001b[0m\u001b[1;33m\u001b[0m\u001b[1;33m\u001b[0m\u001b[0m\n\u001b[0m",
      "\u001b[1;31mTypeError\u001b[0m: unsupported operand type(s) for +: 'set' and 'set'"
     ]
    }
   ],
   "source": [
    "st + s_1"
   ]
  },
  {
   "cell_type": "code",
   "execution_count": 47,
   "id": "76b441a5",
   "metadata": {},
   "outputs": [],
   "source": [
    "st.add(2)"
   ]
  },
  {
   "cell_type": "code",
   "execution_count": 48,
   "id": "18ab7933",
   "metadata": {},
   "outputs": [
    {
     "data": {
      "text/plain": [
       "{2, 4, 5, 6, 23}"
      ]
     },
     "execution_count": 48,
     "metadata": {},
     "output_type": "execute_result"
    }
   ],
   "source": [
    "st"
   ]
  },
  {
   "cell_type": "code",
   "execution_count": 49,
   "id": "7bea2369",
   "metadata": {},
   "outputs": [
    {
     "ename": "TypeError",
     "evalue": "unsupported operand type(s) for *: 'set' and 'int'",
     "output_type": "error",
     "traceback": [
      "\u001b[1;31m---------------------------------------------------------------------------\u001b[0m",
      "\u001b[1;31mTypeError\u001b[0m                                 Traceback (most recent call last)",
      "\u001b[1;32m~\\AppData\\Local\\Temp/ipykernel_11988/3999169242.py\u001b[0m in \u001b[0;36m<module>\u001b[1;34m\u001b[0m\n\u001b[1;32m----> 1\u001b[1;33m \u001b[0mst\u001b[0m \u001b[1;33m*\u001b[0m \u001b[1;36m2\u001b[0m\u001b[1;33m\u001b[0m\u001b[1;33m\u001b[0m\u001b[0m\n\u001b[0m",
      "\u001b[1;31mTypeError\u001b[0m: unsupported operand type(s) for *: 'set' and 'int'"
     ]
    }
   ],
   "source": [
    "st * 2"
   ]
  },
  {
   "cell_type": "code",
   "execution_count": 50,
   "id": "d68152ab",
   "metadata": {},
   "outputs": [
    {
     "data": {
      "text/plain": [
       "{2, 3, 4, 5, 6, 23, 47, 56, 75, 78}"
      ]
     },
     "execution_count": 50,
     "metadata": {},
     "output_type": "execute_result"
    }
   ],
   "source": [
    "st.union(s_1)"
   ]
  },
  {
   "cell_type": "code",
   "execution_count": 51,
   "id": "975381aa",
   "metadata": {},
   "outputs": [],
   "source": [
    "_s = {1,2,3,3,3,4,4,5,5,6,6,7,7}"
   ]
  },
  {
   "cell_type": "code",
   "execution_count": 52,
   "id": "198d2595",
   "metadata": {},
   "outputs": [
    {
     "data": {
      "text/plain": [
       "{1, 2, 3, 4, 5, 6, 7}"
      ]
     },
     "execution_count": 52,
     "metadata": {},
     "output_type": "execute_result"
    }
   ],
   "source": [
    "_s"
   ]
  },
  {
   "cell_type": "code",
   "execution_count": 53,
   "id": "29b490d5",
   "metadata": {},
   "outputs": [
    {
     "data": {
      "text/plain": [
       "{2, 4, 5, 6}"
      ]
     },
     "execution_count": 53,
     "metadata": {},
     "output_type": "execute_result"
    }
   ],
   "source": [
    "st.intersection(_s)"
   ]
  },
  {
   "cell_type": "code",
   "execution_count": 54,
   "id": "24e8969c",
   "metadata": {},
   "outputs": [
    {
     "data": {
      "text/plain": [
       "{1, 3, 7, 23}"
      ]
     },
     "execution_count": 54,
     "metadata": {},
     "output_type": "execute_result"
    }
   ],
   "source": [
    "st.symmetric_difference(_s)"
   ]
  },
  {
   "cell_type": "code",
   "execution_count": 56,
   "id": "8b6529c4",
   "metadata": {},
   "outputs": [
    {
     "name": "stdout",
     "output_type": "stream",
     "text": [
      "1\n",
      "2\n",
      "3\n",
      "4\n",
      "5\n",
      "6\n",
      "7\n"
     ]
    }
   ],
   "source": [
    "for i in _s:\n",
    "    print(i)"
   ]
  },
  {
   "cell_type": "code",
   "execution_count": 57,
   "id": "d548d4a9",
   "metadata": {},
   "outputs": [
    {
     "data": {
      "text/plain": [
       "{3, 5, 6, 47, 56, 75, 78}"
      ]
     },
     "execution_count": 57,
     "metadata": {},
     "output_type": "execute_result"
    }
   ],
   "source": [
    "s_1"
   ]
  },
  {
   "cell_type": "code",
   "execution_count": 58,
   "id": "7d61f853",
   "metadata": {},
   "outputs": [],
   "source": [
    "s_1.remove(47)"
   ]
  },
  {
   "cell_type": "code",
   "execution_count": 59,
   "id": "504a7117",
   "metadata": {},
   "outputs": [
    {
     "data": {
      "text/plain": [
       "{3, 5, 6, 56, 75, 78}"
      ]
     },
     "execution_count": 59,
     "metadata": {},
     "output_type": "execute_result"
    }
   ],
   "source": [
    "s_1"
   ]
  },
  {
   "cell_type": "code",
   "execution_count": 60,
   "id": "4fa5cff2",
   "metadata": {},
   "outputs": [],
   "source": [
    "s_1.discard(6)"
   ]
  },
  {
   "cell_type": "code",
   "execution_count": 61,
   "id": "bf0a4652",
   "metadata": {},
   "outputs": [
    {
     "ename": "KeyError",
     "evalue": "45",
     "output_type": "error",
     "traceback": [
      "\u001b[1;31m---------------------------------------------------------------------------\u001b[0m",
      "\u001b[1;31mKeyError\u001b[0m                                  Traceback (most recent call last)",
      "\u001b[1;32m~\\AppData\\Local\\Temp/ipykernel_11988/905440232.py\u001b[0m in \u001b[0;36m<module>\u001b[1;34m\u001b[0m\n\u001b[1;32m----> 1\u001b[1;33m \u001b[0ms_1\u001b[0m\u001b[1;33m.\u001b[0m\u001b[0mremove\u001b[0m\u001b[1;33m(\u001b[0m\u001b[1;36m45\u001b[0m\u001b[1;33m)\u001b[0m\u001b[1;33m\u001b[0m\u001b[1;33m\u001b[0m\u001b[0m\n\u001b[0m",
      "\u001b[1;31mKeyError\u001b[0m: 45"
     ]
    }
   ],
   "source": [
    "s_1.remove(45)"
   ]
  },
  {
   "cell_type": "raw",
   "id": "c44938cc",
   "metadata": {},
   "source": [
    "Q4)\n",
    "Expressions is a combination of operators and operands that is interpreted to produce some other value. an expression is evaluated as per the precedence of its operators.\n",
    "There are so many types of expressions such as constant expression, arithmetic expression, integral expression, floating expression, relational expression, logical expression.\n",
    "what do all expressions do?\n",
    "ans: Expressions are basically representation of values, so when we execute an expression we get a value.\n",
    "They are different from statement in the fact that statements do something while expressions is an instruction that combines values and operators and always evaluates down to a single value.\n"
   ]
  },
  {
   "cell_type": "code",
   "execution_count": 62,
   "id": "a029953e",
   "metadata": {},
   "outputs": [
    {
     "name": "stdout",
     "output_type": "stream",
     "text": [
      "16.3\n"
     ]
    }
   ],
   "source": [
    "# Constant Expressions\n",
    "x = 15 + 1.3\n",
    "  \n",
    "print(x)"
   ]
  },
  {
   "cell_type": "code",
   "execution_count": 64,
   "id": "09036c38",
   "metadata": {},
   "outputs": [
    {
     "name": "stdout",
     "output_type": "stream",
     "text": [
      "52\n",
      "28\n",
      "480\n",
      "3.3333333333333335\n"
     ]
    }
   ],
   "source": [
    "# Arithmetic Expressions\n",
    "x = 40\n",
    "y = 12\n",
    "  \n",
    "a = x + y\n",
    "b = x - y\n",
    "c = x * y\n",
    "d = x / y\n",
    "  \n",
    "print(a)\n",
    "print(b)\n",
    "print(c)\n",
    "print(d)\n"
   ]
  },
  {
   "cell_type": "code",
   "execution_count": 65,
   "id": "d7e33bf8",
   "metadata": {},
   "outputs": [
    {
     "name": "stdout",
     "output_type": "stream",
     "text": [
      "25\n"
     ]
    }
   ],
   "source": [
    " #Integral Expressions\n",
    "a = 13\n",
    "b = 12.0\n",
    "  \n",
    "c = a + int(b)\n",
    "print(c)"
   ]
  },
  {
   "cell_type": "code",
   "execution_count": 66,
   "id": "df33f02b",
   "metadata": {},
   "outputs": [
    {
     "name": "stdout",
     "output_type": "stream",
     "text": [
      "2.6\n"
     ]
    }
   ],
   "source": [
    "# Floating Expressions\n",
    "a = 13\n",
    "b = 5\n",
    "  \n",
    "c = a / b\n",
    "print(c)"
   ]
  },
  {
   "cell_type": "code",
   "execution_count": 74,
   "id": "a2897731",
   "metadata": {},
   "outputs": [
    {
     "name": "stdout",
     "output_type": "stream",
     "text": [
      "c is the greatest 40\n"
     ]
    }
   ],
   "source": [
    "# Relational Expressions\n",
    "a = 21\n",
    "b = 13\n",
    "c = 40\n",
    "if a>b and a>c:\n",
    "        print('a is the greatest', a)\n",
    "elif b>a and b>c:\n",
    "        print('b is the greatest', b)\n",
    "else:\n",
    "    print('c is the greatest', c)"
   ]
  },
  {
   "cell_type": "code",
   "execution_count": 75,
   "id": "07b59248",
   "metadata": {},
   "outputs": [
    {
     "name": "stdout",
     "output_type": "stream",
     "text": [
      "False\n",
      "True\n",
      "True\n"
     ]
    }
   ],
   "source": [
    "P = (10 == 9)\n",
    "Q = (7 > 5)\n",
    "  \n",
    "# Logical Expressions\n",
    "R = P and Q\n",
    "S = P or Q\n",
    "T = not P\n",
    "  \n",
    "print(R)\n",
    "print(S)\n",
    "print(T)"
   ]
  },
  {
   "cell_type": "raw",
   "id": "ef5c7cc2",
   "metadata": {},
   "source": [
    "Q5)\n",
    "\n",
    "EXPRESSIONS:\n",
    "1) An expression is defined as any part part of a program that evaluates to some value. expressions contain combination of variables, operators, values, etc \n",
    "2)Expressions always return a value\n",
    "3)Functions are also expressions. Even a non returning function will still return None value, so it is an expression.\n",
    "4)Can print the result value\n",
    "5)Examples Of Python Expressions: “Hello” + “World”, 4 + 5 etc.\n",
    "\n",
    "STATEMENTS:\n",
    "1)A statement is an instruction that a python interpreter can execute.\n",
    "2)A statement never returns a value\n",
    "3)A statement never prints any result\n",
    "4) Examples Of Python Statements: Assignment statements, conditional branching, loops, classes, import, def, try, except, pass, del etc\n",
    "5) Assignment statements don't produce a result.A script usually contains a sequence of statements. If there is more than one statement, the results appear one at a time as the statements execute.\n"
   ]
  },
  {
   "cell_type": "code",
   "execution_count": 78,
   "id": "2b9d66b1",
   "metadata": {},
   "outputs": [
    {
     "data": {
      "text/plain": [
       "23"
      ]
     },
     "execution_count": 78,
     "metadata": {},
     "output_type": "execute_result"
    }
   ],
   "source": [
    "#Q6)\n",
    "bacon = 22\n",
    "bacon + 1\n",
    "\n",
    "#so bacon contains the value 23"
   ]
  },
  {
   "cell_type": "code",
   "execution_count": 81,
   "id": "fc0510ee",
   "metadata": {},
   "outputs": [
    {
     "data": {
      "text/plain": [
       "'spamspamspam'"
      ]
     },
     "execution_count": 81,
     "metadata": {},
     "output_type": "execute_result"
    }
   ],
   "source": [
    "#Q7)\n",
    "'spam' + 'spamspam'\n"
   ]
  },
  {
   "cell_type": "code",
   "execution_count": 82,
   "id": "ffd153ff",
   "metadata": {},
   "outputs": [
    {
     "data": {
      "text/plain": [
       "'spamspamspam'"
      ]
     },
     "execution_count": 82,
     "metadata": {},
     "output_type": "execute_result"
    }
   ],
   "source": [
    "#Q7)\n",
    "'spam' *3"
   ]
  },
  {
   "cell_type": "raw",
   "id": "c79f5026",
   "metadata": {},
   "source": [
    "Q8)\n",
    "There are some rules for naming a variable :\n",
    "i)a variable name must not start with a digit.\n",
    "ii) no other special symbols can be used to name a variable except underscore(_).\n",
    "iii) letters can be used to name a variable, leeters followed by digits can be considered a name for a variable.\n",
    "iv) python is case sensitive so 'name' and 'Name' are considered as different variable names.\n",
    "\n",
    "therefore eggs is a valid variable name whereas 100 is not a valid variables because digits can't be used for naming variables"
   ]
  },
  {
   "cell_type": "raw",
   "id": "1ffd2740",
   "metadata": {},
   "source": [
    "Q9)\n",
    "int() function is used to get the integer version of a value.\n",
    "float() function is used to get the floating point version of a value.\n",
    "str() function is used to get the string version of the value"
   ]
  },
  {
   "cell_type": "code",
   "execution_count": 83,
   "id": "4df4a17c",
   "metadata": {},
   "outputs": [
    {
     "name": "stdout",
     "output_type": "stream",
     "text": [
      "Enter the value:jhgyughjk\n",
      "Enter the value:98798\n",
      "Enter the value:5687.453\n",
      "jhgyughjk\n",
      "98798\n",
      "5687.453\n"
     ]
    }
   ],
   "source": [
    "a = str(input('Enter the value:'))\n",
    "b = int(input('Enter the value:'))\n",
    "c = float(input('Enter the value:'))\n",
    "print(a)\n",
    "print(b)\n",
    "print(c)\n"
   ]
  },
  {
   "cell_type": "code",
   "execution_count": 86,
   "id": "b089aa98",
   "metadata": {},
   "outputs": [
    {
     "data": {
      "text/plain": [
       "'I have eaten99burritos'"
      ]
     },
     "execution_count": 86,
     "metadata": {},
     "output_type": "execute_result"
    }
   ],
   "source": [
    "#Q10)\n",
    "'I have eaten'+ '99' + 'burritos'"
   ]
  },
  {
   "cell_type": "markdown",
   "id": "817ea2d7",
   "metadata": {},
   "source": []
  }
 ],
 "metadata": {
  "kernelspec": {
   "display_name": "Python 3 (ipykernel)",
   "language": "python",
   "name": "python3"
  },
  "language_info": {
   "codemirror_mode": {
    "name": "ipython",
    "version": 3
   },
   "file_extension": ".py",
   "mimetype": "text/x-python",
   "name": "python",
   "nbconvert_exporter": "python",
   "pygments_lexer": "ipython3",
   "version": "3.9.7"
  }
 },
 "nbformat": 4,
 "nbformat_minor": 5
}
