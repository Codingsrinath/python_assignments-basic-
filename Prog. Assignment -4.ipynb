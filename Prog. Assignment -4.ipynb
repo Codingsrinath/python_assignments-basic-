{
 "cells": [
  {
   "cell_type": "code",
   "execution_count": 1,
   "id": "8ec8a93a",
   "metadata": {},
   "outputs": [
    {
     "name": "stdout",
     "output_type": "stream",
     "text": [
      "120\n",
      "3628800\n"
     ]
    }
   ],
   "source": [
    "#Ques 1\n",
    "#Write a Python Program to Find the Factorial of a Number?\n",
    "def fact(n):\n",
    "    if n < 0:\n",
    "        return False\n",
    "    \n",
    "    elif n == 0 or n== 1:\n",
    "        return 1\n",
    "    \n",
    "    else:\n",
    "        return (n * fact(n-1))\n",
    "        print(f\"The factorial of {n} is\", fact(n))\n",
    "        \n",
    "print(fact(5))\n",
    "print(fact(10))"
   ]
  },
  {
   "cell_type": "code",
   "execution_count": 2,
   "id": "5a8e7af1",
   "metadata": {},
   "outputs": [
    {
     "name": "stdout",
     "output_type": "stream",
     "text": [
      "5 * 1 =  5\n",
      "5 * 2 =  10\n",
      "5 * 3 =  15\n",
      "5 * 4 =  20\n",
      "5 * 5 =  25\n",
      "5 * 6 =  30\n",
      "5 * 7 =  35\n",
      "5 * 8 =  40\n",
      "5 * 9 =  45\n",
      "5 * 10 =  50\n",
      "5 * 11 =  55\n",
      "5 * 12 =  60\n",
      "5 * 13 =  65\n",
      "5 * 14 =  70\n",
      "5 * 15 =  75\n",
      "5 * 16 =  80\n",
      "5 * 17 =  85\n",
      "5 * 18 =  90\n",
      "5 * 19 =  95\n",
      "5 * 20 =  100\n"
     ]
    }
   ],
   "source": [
    "#Ques 2\n",
    "#Write a Python Program to Display the multiplication Table?\n",
    "def mult_table(num):\n",
    "    for i in range(1, 21):\n",
    "        print(\"{} * {} = \".format(num, i), num * i)\n",
    "        \n",
    "    \n",
    "mult_table(5)"
   ]
  },
  {
   "cell_type": "code",
   "execution_count": 3,
   "id": "82df8aac",
   "metadata": {},
   "outputs": [
    {
     "name": "stdout",
     "output_type": "stream",
     "text": [
      "Enter the number of terms:20\n",
      "0 1 1 2 3 5 8 13 21 34 55 89 144 233 377 610 987 1597 2584 4181 "
     ]
    }
   ],
   "source": [
    "#Ques 3\n",
    "#Write a Python Program to Print the Fibonacci sequence?\n",
    "\n",
    "n = int(input(\"Enter the number of terms:\")) #n represents the number of terms upto which you want to print the fibonacci sequence\n",
    "n1, n2 = 0, 1\n",
    "count = 0\n",
    "if n <= 0:\n",
    "    print(\"Enter a positive number\")\n",
    "elif n ==1:\n",
    "    print(f\"Fibonacci sequence upto {n} terms is\", n1)\n",
    "else:\n",
    "    while count < n:\n",
    "        print(n1, end =\" \")\n",
    "        nth = n1 + n2\n",
    "        n1 = n2\n",
    "        n2 = nth\n",
    "        count = count +1\n",
    "    "
   ]
  },
  {
   "cell_type": "code",
   "execution_count": 4,
   "id": "02dff1ea",
   "metadata": {},
   "outputs": [
    {
     "name": "stdout",
     "output_type": "stream",
     "text": [
      "Enter the number:153\n",
      "The number is an armstrong number\n"
     ]
    }
   ],
   "source": [
    "#Ques 4\n",
    "#Write a Python Program to Check Armstrong Number?\n",
    "num = int(input(\"Enter the number:\"))\n",
    "sum = 0\n",
    "temp = num\n",
    "while temp > 0:\n",
    "    digit = temp % 10\n",
    "    sum += digit ** 3\n",
    "    temp //= 10\n",
    "    \n",
    "if sum == num:\n",
    "    print(\"The number is an armstrong number\")\n",
    "else:\n",
    "    print(\"The number is not an armstrong number\")\n",
    "    "
   ]
  },
  {
   "cell_type": "code",
   "execution_count": 5,
   "id": "bccf8324",
   "metadata": {},
   "outputs": [
    {
     "name": "stdout",
     "output_type": "stream",
     "text": [
      "153\n",
      "370\n",
      "371\n",
      "407\n",
      "1634\n"
     ]
    }
   ],
   "source": [
    "#Question 5\n",
    "#Write a Python Program to Find Armstrong Number in an Interval?\n",
    "lower = 100\n",
    "upper = 2000\n",
    "\n",
    "for num in range(lower, upper + 1):\n",
    "    # order of number\n",
    "    order = len(str(num))\n",
    "   # initialize sum\n",
    "    sum = 0\n",
    "\n",
    "    temp = num\n",
    "    while temp > 0:\n",
    "        digit = temp % 10\n",
    "        sum += digit ** order\n",
    "        temp //= 10\n",
    "\n",
    "    if num == sum:\n",
    "        print(num)  "
   ]
  },
  {
   "cell_type": "code",
   "execution_count": 6,
   "id": "a317bf16",
   "metadata": {},
   "outputs": [
    {
     "name": "stdout",
     "output_type": "stream",
     "text": [
      "Enter the number of natural numbers:30\n",
      "The sum of 30 numbers is: 465\n"
     ]
    }
   ],
   "source": [
    "#Ques 6\n",
    "#Write a Python Program to Find the Sum of Natural Numbers?\n",
    "n = int(input(\"Enter the number of natural numbers:\"))\n",
    "sum = 0\n",
    "for i in range(1, n+1):\n",
    "    sum +=i\n",
    "print(f\"The sum of {n} numbers is:\", sum)"
   ]
  },
  {
   "cell_type": "code",
   "execution_count": null,
   "id": "af0ab2fd",
   "metadata": {},
   "outputs": [],
   "source": []
  }
 ],
 "metadata": {
  "kernelspec": {
   "display_name": "Python 3 (ipykernel)",
   "language": "python",
   "name": "python3"
  },
  "language_info": {
   "codemirror_mode": {
    "name": "ipython",
    "version": 3
   },
   "file_extension": ".py",
   "mimetype": "text/x-python",
   "name": "python",
   "nbconvert_exporter": "python",
   "pygments_lexer": "ipython3",
   "version": "3.9.7"
  }
 },
 "nbformat": 4,
 "nbformat_minor": 5
}
