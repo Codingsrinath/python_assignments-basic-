{
 "cells": [
  {
   "cell_type": "code",
   "execution_count": 12,
   "id": "5ab2c06f",
   "metadata": {},
   "outputs": [
    {
     "name": "stdout",
     "output_type": "stream",
     "text": [
      "Fibonacci sequence:\n",
      "0\n",
      "1\n",
      "1\n",
      "2\n",
      "3\n",
      "5\n",
      "8\n",
      "13\n",
      "21\n",
      "34\n"
     ]
    }
   ],
   "source": [
    "#Q1)\n",
    "def gen_fib(n):\n",
    "    if n <= 1:\n",
    "        return n\n",
    "    else:\n",
    "        return(gen_fib(n-1) + gen_fib(n-2))\n",
    "\n",
    "nterms = 10\n",
    "\n",
    "if nterms <= 0:\n",
    "    print(\"Plese enter a positive integer\")\n",
    "else:\n",
    "    print(\"Fibonacci sequence:\")\n",
    "    for i in range(nterms):\n",
    "        print(gen_fib(i))\n"
   ]
  },
  {
   "cell_type": "code",
   "execution_count": 13,
   "id": "181285c3",
   "metadata": {},
   "outputs": [
    {
     "name": "stdout",
     "output_type": "stream",
     "text": [
      "The factorial of 7 is 5040\n"
     ]
    }
   ],
   "source": [
    "#Q2)\n",
    "def recur_factorial(n):\n",
    "    if n == 1:\n",
    "        return n\n",
    "    else:\n",
    "        return n*recur_factorial(n-1)\n",
    "\n",
    "num = 7\n",
    "\n",
    "\n",
    "if num < 0:\n",
    "    print(\"Please enter positive numbers\")\n",
    "elif num == 0:\n",
    "    print(\"The factorial of 0 is 1\")\n",
    "else:\n",
    "    print(\"The factorial of\", num, \"is\", recur_factorial(num))"
   ]
  },
  {
   "cell_type": "code",
   "execution_count": 14,
   "id": "28566096",
   "metadata": {},
   "outputs": [
    {
     "name": "stdout",
     "output_type": "stream",
     "text": [
      "Input your height in Feet: 6\n",
      "Input your weight in Kilogram: 70\n",
      "Your body mass index is:  1.94\n"
     ]
    }
   ],
   "source": [
    "#Q3)\n",
    "height = float(input(\"Input your height in Feet: \"))\n",
    "weight = float(input(\"Input your weight in Kilogram: \"))\n",
    "print(\"Your body mass index is: \", round(weight / (height * height), 2))"
   ]
  },
  {
   "cell_type": "code",
   "execution_count": 15,
   "id": "f454dced",
   "metadata": {},
   "outputs": [
    {
     "name": "stdout",
     "output_type": "stream",
     "text": [
      "math.log(100.12) :  4.6063694665635735\n",
      "math.log(100.72) :  4.612344389736092\n",
      "math.log(math.pi) :  1.1447298858494002\n"
     ]
    }
   ],
   "source": [
    "#Q4)\n",
    "import math\n",
    "print (\"math.log(100.12) : \", math.log(100.12))\n",
    "print (\"math.log(100.72) : \", math.log(100.72))\n",
    "print (\"math.log(math.pi) : \", math.log(math.pi))"
   ]
  },
  {
   "cell_type": "code",
   "execution_count": 9,
   "id": "0c2c7394",
   "metadata": {},
   "outputs": [],
   "source": [
    "#Q5)\n",
    "def cube_sum(n):\n",
    "    output = []\n",
    "    for i in range(1, n+1):\n",
    "        output.append(i**3)\n",
    "    return f\"The sum of cube of {n} numbers is\", sum(output)"
   ]
  },
  {
   "cell_type": "code",
   "execution_count": 10,
   "id": "e742b9a4",
   "metadata": {},
   "outputs": [
    {
     "data": {
      "text/plain": [
       "('The sum of cube of 3 numbers is', 36)"
      ]
     },
     "execution_count": 10,
     "metadata": {},
     "output_type": "execute_result"
    }
   ],
   "source": [
    "cube_sum(3)"
   ]
  },
  {
   "cell_type": "code",
   "execution_count": null,
   "id": "4a78d283",
   "metadata": {},
   "outputs": [],
   "source": []
  },
  {
   "cell_type": "code",
   "execution_count": null,
   "id": "dce3e31e",
   "metadata": {},
   "outputs": [],
   "source": []
  }
 ],
 "metadata": {
  "kernelspec": {
   "display_name": "Python 3 (ipykernel)",
   "language": "python",
   "name": "python3"
  },
  "language_info": {
   "codemirror_mode": {
    "name": "ipython",
    "version": 3
   },
   "file_extension": ".py",
   "mimetype": "text/x-python",
   "name": "python",
   "nbconvert_exporter": "python",
   "pygments_lexer": "ipython3",
   "version": "3.9.7"
  }
 },
 "nbformat": 4,
 "nbformat_minor": 5
}
